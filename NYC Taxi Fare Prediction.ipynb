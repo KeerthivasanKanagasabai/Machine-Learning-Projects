{
 "cells": [
  {
   "cell_type": "markdown",
   "id": "8d3c1a64",
   "metadata": {},
   "source": [
    "## New York Taxi Fare Prediction"
   ]
  },
  {
   "cell_type": "code",
   "execution_count": 1,
   "id": "f1274421",
   "metadata": {},
   "outputs": [],
   "source": [
    "import pandas as pd\n",
    "import numpy as np\n",
    "import matplotlib\n",
    "import matplotlib.pyplot as plt\n",
    "import seaborn as sns\n",
    "import plotly.express as px\n"
   ]
  },
  {
   "cell_type": "markdown",
   "id": "059d2554",
   "metadata": {},
   "source": [
    "The above cell represents the required file that helpfull for computation is importted"
   ]
  },
  {
   "cell_type": "code",
   "execution_count": 2,
   "id": "f9c19895",
   "metadata": {},
   "outputs": [
    {
     "data": {
      "text/html": [
       "<div>\n",
       "<style scoped>\n",
       "    .dataframe tbody tr th:only-of-type {\n",
       "        vertical-align: middle;\n",
       "    }\n",
       "\n",
       "    .dataframe tbody tr th {\n",
       "        vertical-align: top;\n",
       "    }\n",
       "\n",
       "    .dataframe thead th {\n",
       "        text-align: right;\n",
       "    }\n",
       "</style>\n",
       "<table border=\"1\" class=\"dataframe\">\n",
       "  <thead>\n",
       "    <tr style=\"text-align: right;\">\n",
       "      <th></th>\n",
       "      <th>key</th>\n",
       "      <th>fare_amount</th>\n",
       "      <th>pickup_datetime</th>\n",
       "      <th>pickup_longitude</th>\n",
       "      <th>pickup_latitude</th>\n",
       "      <th>dropoff_longitude</th>\n",
       "      <th>dropoff_latitude</th>\n",
       "      <th>passenger_count</th>\n",
       "    </tr>\n",
       "  </thead>\n",
       "  <tbody>\n",
       "    <tr>\n",
       "      <th>0</th>\n",
       "      <td>2009-06-15 17:26:21.0000001</td>\n",
       "      <td>4.5</td>\n",
       "      <td>2009-06-15 17:26:21+00:00</td>\n",
       "      <td>-73.844311</td>\n",
       "      <td>40.721319</td>\n",
       "      <td>-73.841610</td>\n",
       "      <td>40.712278</td>\n",
       "      <td>1</td>\n",
       "    </tr>\n",
       "    <tr>\n",
       "      <th>1</th>\n",
       "      <td>2010-01-05 16:52:16.0000002</td>\n",
       "      <td>16.9</td>\n",
       "      <td>2010-01-05 16:52:16+00:00</td>\n",
       "      <td>-74.016048</td>\n",
       "      <td>40.711303</td>\n",
       "      <td>-73.979268</td>\n",
       "      <td>40.782004</td>\n",
       "      <td>1</td>\n",
       "    </tr>\n",
       "    <tr>\n",
       "      <th>2</th>\n",
       "      <td>2011-08-18 00:35:00.00000049</td>\n",
       "      <td>5.7</td>\n",
       "      <td>2011-08-18 00:35:00+00:00</td>\n",
       "      <td>-73.982738</td>\n",
       "      <td>40.761270</td>\n",
       "      <td>-73.991242</td>\n",
       "      <td>40.750562</td>\n",
       "      <td>2</td>\n",
       "    </tr>\n",
       "    <tr>\n",
       "      <th>3</th>\n",
       "      <td>2012-04-21 04:30:42.0000001</td>\n",
       "      <td>7.7</td>\n",
       "      <td>2012-04-21 04:30:42+00:00</td>\n",
       "      <td>-73.987130</td>\n",
       "      <td>40.733143</td>\n",
       "      <td>-73.991567</td>\n",
       "      <td>40.758092</td>\n",
       "      <td>1</td>\n",
       "    </tr>\n",
       "    <tr>\n",
       "      <th>4</th>\n",
       "      <td>2010-03-09 07:51:00.000000135</td>\n",
       "      <td>5.3</td>\n",
       "      <td>2010-03-09 07:51:00+00:00</td>\n",
       "      <td>-73.968095</td>\n",
       "      <td>40.768008</td>\n",
       "      <td>-73.956655</td>\n",
       "      <td>40.783762</td>\n",
       "      <td>1</td>\n",
       "    </tr>\n",
       "    <tr>\n",
       "      <th>...</th>\n",
       "      <td>...</td>\n",
       "      <td>...</td>\n",
       "      <td>...</td>\n",
       "      <td>...</td>\n",
       "      <td>...</td>\n",
       "      <td>...</td>\n",
       "      <td>...</td>\n",
       "      <td>...</td>\n",
       "    </tr>\n",
       "    <tr>\n",
       "      <th>49995</th>\n",
       "      <td>2013-06-12 23:25:15.0000004</td>\n",
       "      <td>15.0</td>\n",
       "      <td>2013-06-12 23:25:15+00:00</td>\n",
       "      <td>-73.999973</td>\n",
       "      <td>40.748531</td>\n",
       "      <td>-74.016899</td>\n",
       "      <td>40.705993</td>\n",
       "      <td>1</td>\n",
       "    </tr>\n",
       "    <tr>\n",
       "      <th>49996</th>\n",
       "      <td>2015-06-22 17:19:18.0000007</td>\n",
       "      <td>7.5</td>\n",
       "      <td>2015-06-22 17:19:18+00:00</td>\n",
       "      <td>-73.984756</td>\n",
       "      <td>40.768211</td>\n",
       "      <td>-73.987366</td>\n",
       "      <td>40.760597</td>\n",
       "      <td>1</td>\n",
       "    </tr>\n",
       "    <tr>\n",
       "      <th>49997</th>\n",
       "      <td>2011-01-30 04:53:00.00000063</td>\n",
       "      <td>6.9</td>\n",
       "      <td>2011-01-30 04:53:00+00:00</td>\n",
       "      <td>-74.002698</td>\n",
       "      <td>40.739428</td>\n",
       "      <td>-73.998108</td>\n",
       "      <td>40.759483</td>\n",
       "      <td>1</td>\n",
       "    </tr>\n",
       "    <tr>\n",
       "      <th>49998</th>\n",
       "      <td>2012-11-06 07:09:00.00000069</td>\n",
       "      <td>4.5</td>\n",
       "      <td>2012-11-06 07:09:00+00:00</td>\n",
       "      <td>-73.946062</td>\n",
       "      <td>40.777567</td>\n",
       "      <td>-73.953450</td>\n",
       "      <td>40.779687</td>\n",
       "      <td>2</td>\n",
       "    </tr>\n",
       "    <tr>\n",
       "      <th>49999</th>\n",
       "      <td>2010-01-13 08:13:14.0000007</td>\n",
       "      <td>10.9</td>\n",
       "      <td>2010-01-13 08:13:14+00:00</td>\n",
       "      <td>-73.932603</td>\n",
       "      <td>40.763805</td>\n",
       "      <td>-73.932603</td>\n",
       "      <td>40.763805</td>\n",
       "      <td>1</td>\n",
       "    </tr>\n",
       "  </tbody>\n",
       "</table>\n",
       "<p>50000 rows × 8 columns</p>\n",
       "</div>"
      ],
      "text/plain": [
       "                                 key  fare_amount           pickup_datetime  \\\n",
       "0        2009-06-15 17:26:21.0000001          4.5 2009-06-15 17:26:21+00:00   \n",
       "1        2010-01-05 16:52:16.0000002         16.9 2010-01-05 16:52:16+00:00   \n",
       "2       2011-08-18 00:35:00.00000049          5.7 2011-08-18 00:35:00+00:00   \n",
       "3        2012-04-21 04:30:42.0000001          7.7 2012-04-21 04:30:42+00:00   \n",
       "4      2010-03-09 07:51:00.000000135          5.3 2010-03-09 07:51:00+00:00   \n",
       "...                              ...          ...                       ...   \n",
       "49995    2013-06-12 23:25:15.0000004         15.0 2013-06-12 23:25:15+00:00   \n",
       "49996    2015-06-22 17:19:18.0000007          7.5 2015-06-22 17:19:18+00:00   \n",
       "49997   2011-01-30 04:53:00.00000063          6.9 2011-01-30 04:53:00+00:00   \n",
       "49998   2012-11-06 07:09:00.00000069          4.5 2012-11-06 07:09:00+00:00   \n",
       "49999    2010-01-13 08:13:14.0000007         10.9 2010-01-13 08:13:14+00:00   \n",
       "\n",
       "       pickup_longitude  pickup_latitude  dropoff_longitude  dropoff_latitude  \\\n",
       "0            -73.844311        40.721319         -73.841610         40.712278   \n",
       "1            -74.016048        40.711303         -73.979268         40.782004   \n",
       "2            -73.982738        40.761270         -73.991242         40.750562   \n",
       "3            -73.987130        40.733143         -73.991567         40.758092   \n",
       "4            -73.968095        40.768008         -73.956655         40.783762   \n",
       "...                 ...              ...                ...               ...   \n",
       "49995        -73.999973        40.748531         -74.016899         40.705993   \n",
       "49996        -73.984756        40.768211         -73.987366         40.760597   \n",
       "49997        -74.002698        40.739428         -73.998108         40.759483   \n",
       "49998        -73.946062        40.777567         -73.953450         40.779687   \n",
       "49999        -73.932603        40.763805         -73.932603         40.763805   \n",
       "\n",
       "       passenger_count  \n",
       "0                    1  \n",
       "1                    1  \n",
       "2                    2  \n",
       "3                    1  \n",
       "4                    1  \n",
       "...                ...  \n",
       "49995                1  \n",
       "49996                1  \n",
       "49997                1  \n",
       "49998                2  \n",
       "49999                1  \n",
       "\n",
       "[50000 rows x 8 columns]"
      ]
     },
     "execution_count": 2,
     "metadata": {},
     "output_type": "execute_result"
    }
   ],
   "source": [
    "# Reading the file\n",
    "\n",
    "data = pd.read_csv('taxifare.csv', parse_dates = ['pickup_datetime'])\n",
    "data"
   ]
  },
  {
   "cell_type": "markdown",
   "id": "82a6d0d1",
   "metadata": {},
   "source": [
    "The processing file was read successfully and it was displayed. Each column contain specfic data's \n",
    "\n",
    "##### Fare_amount - represents the total amount to be paid after the completion of ride\n",
    "\n",
    "##### Pickup_datetime - gives the exact time and date of the pickup or the starting of ride according to UTC\n",
    "\n",
    "##### pickup_longitude , pickup_latitude - this exactly means that gives the precise location of pickup location's latitude and longitude\n",
    "\n",
    "##### dropoff_longitude, dropoff_latitude - this represents dropped location's latitude and longitude\n",
    "\n",
    "##### passenger_count -  gives the details of how many peoples were travelled while in the ride"
   ]
  },
  {
   "cell_type": "code",
   "execution_count": null,
   "id": "35519733",
   "metadata": {},
   "outputs": [],
   "source": []
  },
  {
   "cell_type": "code",
   "execution_count": 3,
   "id": "c433892f",
   "metadata": {},
   "outputs": [
    {
     "name": "stdout",
     "output_type": "stream",
     "text": [
      "<class 'pandas.core.frame.DataFrame'>\n",
      "RangeIndex: 50000 entries, 0 to 49999\n",
      "Data columns (total 8 columns):\n",
      " #   Column             Non-Null Count  Dtype              \n",
      "---  ------             --------------  -----              \n",
      " 0   key                50000 non-null  object             \n",
      " 1   fare_amount        50000 non-null  float64            \n",
      " 2   pickup_datetime    50000 non-null  datetime64[ns, UTC]\n",
      " 3   pickup_longitude   50000 non-null  float64            \n",
      " 4   pickup_latitude    50000 non-null  float64            \n",
      " 5   dropoff_longitude  50000 non-null  float64            \n",
      " 6   dropoff_latitude   50000 non-null  float64            \n",
      " 7   passenger_count    50000 non-null  int64              \n",
      "dtypes: datetime64[ns, UTC](1), float64(5), int64(1), object(1)\n",
      "memory usage: 3.1+ MB\n"
     ]
    }
   ],
   "source": [
    "data.info()"
   ]
  },
  {
   "cell_type": "markdown",
   "id": "11c08c8c",
   "metadata": {},
   "source": [
    "The information summary of the entire dataset is printed, from the above cell may conculde the perfection of data by understanding the null values and types of each columns and can also know about the entire size with the help of \"RangeIndex\""
   ]
  },
  {
   "cell_type": "code",
   "execution_count": 4,
   "id": "03f8d92f",
   "metadata": {},
   "outputs": [
    {
     "data": {
      "text/plain": [
       "0         4\n",
       "1        16\n",
       "2         5\n",
       "3         7\n",
       "4         5\n",
       "         ..\n",
       "49995    15\n",
       "49996     7\n",
       "49997     6\n",
       "49998     4\n",
       "49999    10\n",
       "Name: fare_amount, Length: 50000, dtype: int32"
      ]
     },
     "execution_count": 4,
     "metadata": {},
     "output_type": "execute_result"
    }
   ],
   "source": [
    "data['fare_amount'] = data['fare_amount'].astype(int)\n",
    "data['fare_amount']"
   ]
  },
  {
   "cell_type": "code",
   "execution_count": 5,
   "id": "bc9a7cb1",
   "metadata": {},
   "outputs": [
    {
     "name": "stdout",
     "output_type": "stream",
     "text": [
      "Skewness :  3.5545489711334124\n",
      "Kurtosis:  22.554174971688138\n"
     ]
    }
   ],
   "source": [
    "print('Skewness : ', data['fare_amount'].skew())\n",
    "print('Kurtosis: ', data['fare_amount'].kurt())"
   ]
  },
  {
   "cell_type": "code",
   "execution_count": 6,
   "id": "f93d69fe",
   "metadata": {
    "scrolled": true
   },
   "outputs": [
    {
     "name": "stderr",
     "output_type": "stream",
     "text": [
      "C:\\Users\\hi\\anaconda3\\lib\\site-packages\\seaborn\\distributions.py:2557: FutureWarning: `distplot` is a deprecated function and will be removed in a future version. Please adapt your code to use either `displot` (a figure-level function with similar flexibility) or `histplot` (an axes-level function for histograms).\n",
      "  warnings.warn(msg, FutureWarning)\n"
     ]
    },
    {
     "data": {
      "text/plain": [
       "<AxesSubplot:xlabel='fare_amount', ylabel='Density'>"
      ]
     },
     "execution_count": 6,
     "metadata": {},
     "output_type": "execute_result"
    },
    {
     "data": {
      "image/png": "[encoded data removed]",
      "text/plain": [
       "<Figure size 432x288 with 1 Axes>"
      ]
     },
     "metadata": {
      "needs_background": "light"
     },
     "output_type": "display_data"
    }
   ],
   "source": [
    "sns.distplot(data['fare_amount'])"
   ]
  },
  {
   "cell_type": "code",
   "execution_count": 7,
   "id": "47ff9d65",
   "metadata": {},
   "outputs": [
    {
     "name": "stderr",
     "output_type": "stream",
     "text": [
      "C:\\Users\\hi\\anaconda3\\lib\\site-packages\\seaborn\\distributions.py:2557: FutureWarning: `distplot` is a deprecated function and will be removed in a future version. Please adapt your code to use either `displot` (a figure-level function with similar flexibility) or `histplot` (an axes-level function for histograms).\n",
      "  warnings.warn(msg, FutureWarning)\n"
     ]
    },
    {
     "name": "stdout",
     "output_type": "stream",
     "text": [
      "\n",
      " mu = 10.968780, Sigma = 9.70\n",
      "\n"
     ]
    },
    {
     "data": {
      "image/png": "[encoded data removed]",
      "text/plain": [
       "<Figure size 432x288 with 1 Axes>"
      ]
     },
     "metadata": {
      "needs_background": "light"
     },
     "output_type": "display_data"
    },
    {
     "data": {
      "image/png": "[encoded data removed]",
      "text/plain": [
       "<Figure size 432x288 with 1 Axes>"
      ]
     },
     "metadata": {
      "needs_background": "light"
     },
     "output_type": "display_data"
    }
   ],
   "source": [
    "from scipy import stats\n",
    "from scipy.stats import norm, skew\n",
    "\n",
    "sns.distplot(data['fare_amount'], fit = norm);\n",
    "(mu,sigma) = norm.fit(data['fare_amount'])\n",
    "\n",
    "print('\\n mu = {:2f}, Sigma = {:.2f}\\n'.format(mu, sigma))\n",
    "\n",
    "plt.legend(['Normal dist. ($\\mu = $ {:.2f} and $\\sigma = ${:.2f})'.format(mu, sigma)], \n",
    "           loc = 'best')\n",
    "\n",
    "plt.ylabel('Frequency');\n",
    "\n",
    "#qq plot\n",
    "fig = plt.figure()\n",
    "res = stats.probplot(data['fare_amount'], plot = plt)\n",
    "plt.show()"
   ]
  },
  {
   "cell_type": "code",
   "execution_count": null,
   "id": "17b10785",
   "metadata": {},
   "outputs": [],
   "source": []
  },
  {
   "cell_type": "code",
   "execution_count": null,
   "id": "1b5d54fe",
   "metadata": {},
   "outputs": [],
   "source": []
  },
  {
   "cell_type": "markdown",
   "id": "a8ed2276",
   "metadata": {},
   "source": [
    "The type of column \"Fare_amount\" is converted into int from float. And this changes was made permanently by passing it into original dataframe"
   ]
  },
  {
   "cell_type": "code",
   "execution_count": 8,
   "id": "57697c61",
   "metadata": {},
   "outputs": [
    {
     "name": "stdout",
     "output_type": "stream",
     "text": [
      "<class 'pandas.core.frame.DataFrame'>\n",
      "RangeIndex: 50000 entries, 0 to 49999\n",
      "Data columns (total 8 columns):\n",
      " #   Column             Non-Null Count  Dtype              \n",
      "---  ------             --------------  -----              \n",
      " 0   key                50000 non-null  object             \n",
      " 1   fare_amount        50000 non-null  int32              \n",
      " 2   pickup_datetime    50000 non-null  datetime64[ns, UTC]\n",
      " 3   pickup_longitude   50000 non-null  float64            \n",
      " 4   pickup_latitude    50000 non-null  float64            \n",
      " 5   dropoff_longitude  50000 non-null  float64            \n",
      " 6   dropoff_latitude   50000 non-null  float64            \n",
      " 7   passenger_count    50000 non-null  int64              \n",
      "dtypes: datetime64[ns, UTC](1), float64(4), int32(1), int64(1), object(1)\n",
      "memory usage: 2.9+ MB\n"
     ]
    }
   ],
   "source": [
    "data.info()"
   ]
  },
  {
   "cell_type": "code",
   "execution_count": 9,
   "id": "79a667fd",
   "metadata": {},
   "outputs": [
    {
     "data": {
      "text/html": [
       "<div>\n",
       "<style scoped>\n",
       "    .dataframe tbody tr th:only-of-type {\n",
       "        vertical-align: middle;\n",
       "    }\n",
       "\n",
       "    .dataframe tbody tr th {\n",
       "        vertical-align: top;\n",
       "    }\n",
       "\n",
       "    .dataframe thead th {\n",
       "        text-align: right;\n",
       "    }\n",
       "</style>\n",
       "<table border=\"1\" class=\"dataframe\">\n",
       "  <thead>\n",
       "    <tr style=\"text-align: right;\">\n",
       "      <th></th>\n",
       "      <th>fare_amount</th>\n",
       "      <th>pickup_longitude</th>\n",
       "      <th>pickup_latitude</th>\n",
       "      <th>dropoff_longitude</th>\n",
       "      <th>dropoff_latitude</th>\n",
       "      <th>passenger_count</th>\n",
       "    </tr>\n",
       "  </thead>\n",
       "  <tbody>\n",
       "    <tr>\n",
       "      <th>count</th>\n",
       "      <td>50000.00000</td>\n",
       "      <td>50000.000000</td>\n",
       "      <td>50000.000000</td>\n",
       "      <td>50000.000000</td>\n",
       "      <td>50000.000000</td>\n",
       "      <td>50000.000000</td>\n",
       "    </tr>\n",
       "    <tr>\n",
       "      <th>mean</th>\n",
       "      <td>10.96878</td>\n",
       "      <td>-72.509756</td>\n",
       "      <td>39.933759</td>\n",
       "      <td>-72.504616</td>\n",
       "      <td>39.926251</td>\n",
       "      <td>1.667840</td>\n",
       "    </tr>\n",
       "    <tr>\n",
       "      <th>std</th>\n",
       "      <td>9.69772</td>\n",
       "      <td>10.393860</td>\n",
       "      <td>6.224857</td>\n",
       "      <td>10.407570</td>\n",
       "      <td>6.014737</td>\n",
       "      <td>1.289195</td>\n",
       "    </tr>\n",
       "    <tr>\n",
       "      <th>min</th>\n",
       "      <td>-5.00000</td>\n",
       "      <td>-75.423848</td>\n",
       "      <td>-74.006893</td>\n",
       "      <td>-84.654241</td>\n",
       "      <td>-74.006377</td>\n",
       "      <td>0.000000</td>\n",
       "    </tr>\n",
       "    <tr>\n",
       "      <th>25%</th>\n",
       "      <td>6.00000</td>\n",
       "      <td>-73.992062</td>\n",
       "      <td>40.734880</td>\n",
       "      <td>-73.991152</td>\n",
       "      <td>40.734372</td>\n",
       "      <td>1.000000</td>\n",
       "    </tr>\n",
       "    <tr>\n",
       "      <th>50%</th>\n",
       "      <td>8.00000</td>\n",
       "      <td>-73.981840</td>\n",
       "      <td>40.752678</td>\n",
       "      <td>-73.980082</td>\n",
       "      <td>40.753372</td>\n",
       "      <td>1.000000</td>\n",
       "    </tr>\n",
       "    <tr>\n",
       "      <th>75%</th>\n",
       "      <td>12.00000</td>\n",
       "      <td>-73.967148</td>\n",
       "      <td>40.767360</td>\n",
       "      <td>-73.963584</td>\n",
       "      <td>40.768167</td>\n",
       "      <td>2.000000</td>\n",
       "    </tr>\n",
       "    <tr>\n",
       "      <th>max</th>\n",
       "      <td>200.00000</td>\n",
       "      <td>40.783472</td>\n",
       "      <td>401.083332</td>\n",
       "      <td>40.851027</td>\n",
       "      <td>43.415190</td>\n",
       "      <td>6.000000</td>\n",
       "    </tr>\n",
       "  </tbody>\n",
       "</table>\n",
       "</div>"
      ],
      "text/plain": [
       "       fare_amount  pickup_longitude  pickup_latitude  dropoff_longitude  \\\n",
       "count  50000.00000      50000.000000     50000.000000       50000.000000   \n",
       "mean      10.96878        -72.509756        39.933759         -72.504616   \n",
       "std        9.69772         10.393860         6.224857          10.407570   \n",
       "min       -5.00000        -75.423848       -74.006893         -84.654241   \n",
       "25%        6.00000        -73.992062        40.734880         -73.991152   \n",
       "50%        8.00000        -73.981840        40.752678         -73.980082   \n",
       "75%       12.00000        -73.967148        40.767360         -73.963584   \n",
       "max      200.00000         40.783472       401.083332          40.851027   \n",
       "\n",
       "       dropoff_latitude  passenger_count  \n",
       "count      50000.000000     50000.000000  \n",
       "mean          39.926251         1.667840  \n",
       "std            6.014737         1.289195  \n",
       "min          -74.006377         0.000000  \n",
       "25%           40.734372         1.000000  \n",
       "50%           40.753372         1.000000  \n",
       "75%           40.768167         2.000000  \n",
       "max           43.415190         6.000000  "
      ]
     },
     "execution_count": 9,
     "metadata": {},
     "output_type": "execute_result"
    }
   ],
   "source": [
    "data.describe()"
   ]
  },
  {
   "cell_type": "markdown",
   "id": "52e1b0e3",
   "metadata": {},
   "source": [
    "Describe function return the min and max values as well as quartiles, mean, standard deviation and counts as basic piece of inforamtion about the statistics of the given dataframe"
   ]
  },
  {
   "cell_type": "code",
   "execution_count": 10,
   "id": "da4aa818",
   "metadata": {},
   "outputs": [
    {
     "data": {
      "text/plain": [
       "(50000, 8)"
      ]
     },
     "execution_count": 10,
     "metadata": {},
     "output_type": "execute_result"
    }
   ],
   "source": [
    "data.shape"
   ]
  },
  {
   "cell_type": "markdown",
   "id": "8eea7d98",
   "metadata": {},
   "source": [
    "Shape Function represents numbers of counts accordingly rows and columns"
   ]
  },
  {
   "cell_type": "code",
   "execution_count": 11,
   "id": "528c9b41",
   "metadata": {},
   "outputs": [],
   "source": [
    "# Converting the dates and times to seperate columns\n",
    "\n",
    "rng = pd.DataFrame()\n",
    "rng['datetime'] = pd.to_datetime(data['pickup_datetime'], errors= 'coerce')"
   ]
  },
  {
   "cell_type": "markdown",
   "id": "0fa387a1",
   "metadata": {},
   "source": [
    "rng was assigned to an empty dataframe because I like to have the final output to be a dataframe.\n",
    "\n",
    "Then the datetime column of the dataframe is passed and it was converting to Datetime64[ns, UTC] type of data, changes was made permanently,\n",
    "if something was given as errors, it can automatically coerce the value to Datetime64"
   ]
  },
  {
   "cell_type": "code",
   "execution_count": 12,
   "id": "68f80263",
   "metadata": {},
   "outputs": [],
   "source": [
    "# Splits the whole columns accordingly \n",
    "\n",
    "rng = {\n",
    "    \"year\" : rng['datetime'].dt.year ,\n",
    "    \"month\" : rng['datetime'].dt.month ,\n",
    "    \"date\" : rng['datetime'].dt.day,\n",
    "    \"hour\" : rng['datetime'].dt.hour , \n",
    "    \"minute\" : rng['datetime'].dt.minute\n",
    "}"
   ]
  },
  {
   "cell_type": "markdown",
   "id": "e6ded148",
   "metadata": {},
   "source": [
    "rng was assigned as dictinoary of values with dedicated columns for year, month, day, hour, minute"
   ]
  },
  {
   "cell_type": "code",
   "execution_count": 13,
   "id": "5483e275",
   "metadata": {},
   "outputs": [
    {
     "data": {
      "text/html": [
       "<div>\n",
       "<style scoped>\n",
       "    .dataframe tbody tr th:only-of-type {\n",
       "        vertical-align: middle;\n",
       "    }\n",
       "\n",
       "    .dataframe tbody tr th {\n",
       "        vertical-align: top;\n",
       "    }\n",
       "\n",
       "    .dataframe thead th {\n",
       "        text-align: right;\n",
       "    }\n",
       "</style>\n",
       "<table border=\"1\" class=\"dataframe\">\n",
       "  <thead>\n",
       "    <tr style=\"text-align: right;\">\n",
       "      <th></th>\n",
       "      <th>year</th>\n",
       "      <th>month</th>\n",
       "      <th>date</th>\n",
       "      <th>hour</th>\n",
       "      <th>minute</th>\n",
       "    </tr>\n",
       "  </thead>\n",
       "  <tbody>\n",
       "    <tr>\n",
       "      <th>0</th>\n",
       "      <td>2009</td>\n",
       "      <td>6</td>\n",
       "      <td>15</td>\n",
       "      <td>17</td>\n",
       "      <td>26</td>\n",
       "    </tr>\n",
       "    <tr>\n",
       "      <th>1</th>\n",
       "      <td>2010</td>\n",
       "      <td>1</td>\n",
       "      <td>5</td>\n",
       "      <td>16</td>\n",
       "      <td>52</td>\n",
       "    </tr>\n",
       "    <tr>\n",
       "      <th>2</th>\n",
       "      <td>2011</td>\n",
       "      <td>8</td>\n",
       "      <td>18</td>\n",
       "      <td>0</td>\n",
       "      <td>35</td>\n",
       "    </tr>\n",
       "    <tr>\n",
       "      <th>3</th>\n",
       "      <td>2012</td>\n",
       "      <td>4</td>\n",
       "      <td>21</td>\n",
       "      <td>4</td>\n",
       "      <td>30</td>\n",
       "    </tr>\n",
       "    <tr>\n",
       "      <th>4</th>\n",
       "      <td>2010</td>\n",
       "      <td>3</td>\n",
       "      <td>9</td>\n",
       "      <td>7</td>\n",
       "      <td>51</td>\n",
       "    </tr>\n",
       "    <tr>\n",
       "      <th>...</th>\n",
       "      <td>...</td>\n",
       "      <td>...</td>\n",
       "      <td>...</td>\n",
       "      <td>...</td>\n",
       "      <td>...</td>\n",
       "    </tr>\n",
       "    <tr>\n",
       "      <th>49995</th>\n",
       "      <td>2013</td>\n",
       "      <td>6</td>\n",
       "      <td>12</td>\n",
       "      <td>23</td>\n",
       "      <td>25</td>\n",
       "    </tr>\n",
       "    <tr>\n",
       "      <th>49996</th>\n",
       "      <td>2015</td>\n",
       "      <td>6</td>\n",
       "      <td>22</td>\n",
       "      <td>17</td>\n",
       "      <td>19</td>\n",
       "    </tr>\n",
       "    <tr>\n",
       "      <th>49997</th>\n",
       "      <td>2011</td>\n",
       "      <td>1</td>\n",
       "      <td>30</td>\n",
       "      <td>4</td>\n",
       "      <td>53</td>\n",
       "    </tr>\n",
       "    <tr>\n",
       "      <th>49998</th>\n",
       "      <td>2012</td>\n",
       "      <td>11</td>\n",
       "      <td>6</td>\n",
       "      <td>7</td>\n",
       "      <td>9</td>\n",
       "    </tr>\n",
       "    <tr>\n",
       "      <th>49999</th>\n",
       "      <td>2010</td>\n",
       "      <td>1</td>\n",
       "      <td>13</td>\n",
       "      <td>8</td>\n",
       "      <td>13</td>\n",
       "    </tr>\n",
       "  </tbody>\n",
       "</table>\n",
       "<p>50000 rows × 5 columns</p>\n",
       "</div>"
      ],
      "text/plain": [
       "       year  month  date  hour  minute\n",
       "0      2009      6    15    17      26\n",
       "1      2010      1     5    16      52\n",
       "2      2011      8    18     0      35\n",
       "3      2012      4    21     4      30\n",
       "4      2010      3     9     7      51\n",
       "...     ...    ...   ...   ...     ...\n",
       "49995  2013      6    12    23      25\n",
       "49996  2015      6    22    17      19\n",
       "49997  2011      1    30     4      53\n",
       "49998  2012     11     6     7       9\n",
       "49999  2010      1    13     8      13\n",
       "\n",
       "[50000 rows x 5 columns]"
      ]
     },
     "execution_count": 13,
     "metadata": {},
     "output_type": "execute_result"
    }
   ],
   "source": [
    "# Convert the dictinoary of datetime columns to dataframe\n",
    "\n",
    "df = pd.DataFrame.from_dict(rng)\n",
    "df"
   ]
  },
  {
   "cell_type": "markdown",
   "id": "f0cd0d35",
   "metadata": {},
   "source": [
    "rng was converting to dataframe and saved in the variable 'df'"
   ]
  },
  {
   "cell_type": "code",
   "execution_count": 14,
   "id": "920ae312",
   "metadata": {},
   "outputs": [],
   "source": [
    "# Merging dataframes of original dataset with the converted time and date dataframe\n",
    "\n",
    "data = data.join(df, lsuffix = '_left' , rsuffix = '_right' )"
   ]
  },
  {
   "cell_type": "markdown",
   "id": "5a52ad5b",
   "metadata": {},
   "source": [
    "This above code represents that the original dataframe and the created 'df' was joined together to easy understanding for machine\n",
    "\n",
    "\n",
    "By this Data Preparation was completed, all the columns are numeric so it can do nothing with encoder, as well as non-null values in the dataframe so no need of imputation.\n",
    "\n",
    "Then hereby the Preprocessing was started"
   ]
  },
  {
   "cell_type": "code",
   "execution_count": 15,
   "id": "bcbb1e88",
   "metadata": {},
   "outputs": [],
   "source": [
    "# Train Test Split model\n",
    "\n",
    "from sklearn.model_selection import train_test_split\n",
    "\n",
    "train_df, test_df = train_test_split(data, test_size = 0.2, random_state = 42)"
   ]
  },
  {
   "cell_type": "markdown",
   "id": "df2104d1",
   "metadata": {},
   "source": [
    "The entire dataframe was split according to train, test data. Generally the piece was data was sliced into two pieces by test and train, everytime when the data was splitted  the train contains lot of information of 80% and the test may contain 20%. it was general rule to have bigger train data for grasping the best result"
   ]
  },
  {
   "cell_type": "code",
   "execution_count": 16,
   "id": "b64e8f89",
   "metadata": {},
   "outputs": [
    {
     "name": "stdout",
     "output_type": "stream",
     "text": [
      "Training dataset shape:  (40000, 13)\n",
      "Test dataset shape:  (10000, 13)\n"
     ]
    }
   ],
   "source": [
    "print('Training dataset shape: ', train_df.shape)\n",
    "print('Test dataset shape: ', test_df.shape)"
   ]
  },
  {
   "cell_type": "code",
   "execution_count": 17,
   "id": "346b60eb",
   "metadata": {},
   "outputs": [
    {
     "name": "stdout",
     "output_type": "stream",
     "text": [
      "<class 'pandas.core.frame.DataFrame'>\n",
      "RangeIndex: 50000 entries, 0 to 49999\n",
      "Data columns (total 13 columns):\n",
      " #   Column             Non-Null Count  Dtype              \n",
      "---  ------             --------------  -----              \n",
      " 0   key                50000 non-null  object             \n",
      " 1   fare_amount        50000 non-null  int32              \n",
      " 2   pickup_datetime    50000 non-null  datetime64[ns, UTC]\n",
      " 3   pickup_longitude   50000 non-null  float64            \n",
      " 4   pickup_latitude    50000 non-null  float64            \n",
      " 5   dropoff_longitude  50000 non-null  float64            \n",
      " 6   dropoff_latitude   50000 non-null  float64            \n",
      " 7   passenger_count    50000 non-null  int64              \n",
      " 8   year               50000 non-null  int64              \n",
      " 9   month              50000 non-null  int64              \n",
      " 10  date               50000 non-null  int64              \n",
      " 11  hour               50000 non-null  int64              \n",
      " 12  minute             50000 non-null  int64              \n",
      "dtypes: datetime64[ns, UTC](1), float64(4), int32(1), int64(6), object(1)\n",
      "memory usage: 4.8+ MB\n"
     ]
    }
   ],
   "source": [
    "data.info()"
   ]
  },
  {
   "cell_type": "code",
   "execution_count": 18,
   "id": "7623ac45",
   "metadata": {},
   "outputs": [],
   "source": [
    "# Assiginig what are all the input columns and Output columns or Targetted columns\n",
    "\n",
    "input_cols= list(train_df.columns)[3:13]\n",
    "target_cols = 'fare_amount'"
   ]
  },
  {
   "cell_type": "markdown",
   "id": "503c3d94",
   "metadata": {},
   "source": [
    "This above cell splits the independent columns data's as input columns, and target columns resultant value was depend only on the input values hence the depenent column value can also called as target column"
   ]
  },
  {
   "cell_type": "code",
   "execution_count": 19,
   "id": "fd98eea0",
   "metadata": {},
   "outputs": [
    {
     "data": {
      "text/plain": [
       "['pickup_longitude',\n",
       " 'pickup_latitude',\n",
       " 'dropoff_longitude',\n",
       " 'dropoff_latitude',\n",
       " 'passenger_count',\n",
       " 'year',\n",
       " 'month',\n",
       " 'date',\n",
       " 'hour',\n",
       " 'minute']"
      ]
     },
     "execution_count": 19,
     "metadata": {},
     "output_type": "execute_result"
    }
   ],
   "source": [
    "input_cols"
   ]
  },
  {
   "cell_type": "code",
   "execution_count": 20,
   "id": "01e94105",
   "metadata": {},
   "outputs": [
    {
     "data": {
      "text/plain": [
       "'fare_amount'"
      ]
     },
     "execution_count": 20,
     "metadata": {},
     "output_type": "execute_result"
    }
   ],
   "source": [
    "target_cols"
   ]
  },
  {
   "cell_type": "code",
   "execution_count": 21,
   "id": "76531813",
   "metadata": {},
   "outputs": [
    {
     "data": {
      "text/plain": [
       "pickup_longitude      -73.976168\n",
       "pickup_latitude        40.752330\n",
       "dropoff_longitude     -74.013987\n",
       "dropoff_latitude       40.717055\n",
       "passenger_count         5.000000\n",
       "year                 2010.000000\n",
       "month                   9.000000\n",
       "date                   30.000000\n",
       "hour                   16.000000\n",
       "minute                 40.000000\n",
       "Name: 5291, dtype: float64"
      ]
     },
     "execution_count": 21,
     "metadata": {},
     "output_type": "execute_result"
    }
   ],
   "source": [
    "# Parsing the dedicated input and target columns to training dataframe\n",
    "\n",
    "train_inputs = train_df[input_cols].copy()\n",
    "train_targets = train_df[target_cols].copy()\n",
    "\n",
    "train_inputs.loc[5291]"
   ]
  },
  {
   "cell_type": "markdown",
   "id": "214a3427",
   "metadata": {},
   "source": [
    "The input columns was assigned to train_inputs, and target column was assigned to train_targets "
   ]
  },
  {
   "cell_type": "code",
   "execution_count": 22,
   "id": "6d9e897e",
   "metadata": {},
   "outputs": [
    {
     "data": {
      "text/plain": [
       "16"
      ]
     },
     "execution_count": 22,
     "metadata": {},
     "output_type": "execute_result"
    }
   ],
   "source": [
    "train_targets.loc[5291]"
   ]
  },
  {
   "cell_type": "code",
   "execution_count": 23,
   "id": "b374bf91",
   "metadata": {},
   "outputs": [
    {
     "data": {
      "text/plain": [
       "Index(['pickup_longitude', 'pickup_latitude', 'dropoff_longitude',\n",
       "       'dropoff_latitude', 'passenger_count', 'year', 'month', 'date', 'hour',\n",
       "       'minute'],\n",
       "      dtype='object')"
      ]
     },
     "execution_count": 23,
     "metadata": {},
     "output_type": "execute_result"
    }
   ],
   "source": [
    "train_inputs.columns"
   ]
  },
  {
   "cell_type": "markdown",
   "id": "9b0b110b",
   "metadata": {},
   "source": [
    "This returns what are the columns are designated as input_columns, that was inside the train_inputs "
   ]
  },
  {
   "cell_type": "code",
   "execution_count": 24,
   "id": "8b518622",
   "metadata": {},
   "outputs": [],
   "source": [
    "test_inputs= test_df[input_cols].copy()\n",
    "test_targets = test_df[target_cols].copy()"
   ]
  },
  {
   "cell_type": "code",
   "execution_count": 25,
   "id": "a4073439",
   "metadata": {},
   "outputs": [
    {
     "name": "stdout",
     "output_type": "stream",
     "text": [
      "Train input shape:  (40000, 10)\n",
      "Train target shape:  (40000,)\n",
      "\n",
      "Test input shape:  (10000, 10)\n",
      "Test target shape:  (10000,)\n"
     ]
    }
   ],
   "source": [
    "# shapes of various categories\n",
    "\n",
    "print('Train input shape: ', train_inputs.shape)\n",
    "print('Train target shape: ', train_targets.shape)\n",
    "print('\\nTest input shape: ', test_inputs.shape)\n",
    "print('Test target shape: ', test_targets.shape)"
   ]
  },
  {
   "cell_type": "markdown",
   "id": "49a7258c",
   "metadata": {},
   "source": [
    "Above cell returns the shapes of train_inputs, train_targets, test_inputs, test_targets"
   ]
  },
  {
   "cell_type": "code",
   "execution_count": 26,
   "id": "cb5ba414",
   "metadata": {},
   "outputs": [],
   "source": [
    "# Model 1\n",
    "\n",
    "from sklearn.linear_model import LinearRegression"
   ]
  },
  {
   "cell_type": "markdown",
   "id": "4c7fbeef",
   "metadata": {},
   "source": [
    "###### Due to the values are continous i choose to run the model using Linear Regression "
   ]
  },
  {
   "cell_type": "code",
   "execution_count": 27,
   "id": "c680bd6a",
   "metadata": {},
   "outputs": [
    {
     "name": "stdout",
     "output_type": "stream",
     "text": [
      "Linear regression: \n",
      "[12.43371407 11.81023788 10.8809864  ...  9.81876878 11.49849759\n",
      " 12.09412222]\n"
     ]
    }
   ],
   "source": [
    "model = LinearRegression()\n",
    "model.fit(train_inputs, train_targets)\n",
    "print('Linear regression: ')\n",
    "pred = model.predict(train_inputs)\n",
    "print(pred)"
   ]
  },
  {
   "cell_type": "markdown",
   "id": "341c7750",
   "metadata": {},
   "source": [
    "The linear regression was called and fit with the inputs and also predict the values according to train_inputs"
   ]
  },
  {
   "cell_type": "code",
   "execution_count": 28,
   "id": "7e457006",
   "metadata": {},
   "outputs": [
    {
     "data": {
      "text/html": [
       "<div>\n",
       "<style scoped>\n",
       "    .dataframe tbody tr th:only-of-type {\n",
       "        vertical-align: middle;\n",
       "    }\n",
       "\n",
       "    .dataframe tbody tr th {\n",
       "        vertical-align: top;\n",
       "    }\n",
       "\n",
       "    .dataframe thead th {\n",
       "        text-align: right;\n",
       "    }\n",
       "</style>\n",
       "<table border=\"1\" class=\"dataframe\">\n",
       "  <thead>\n",
       "    <tr style=\"text-align: right;\">\n",
       "      <th></th>\n",
       "      <th>fare_amount</th>\n",
       "      <th>pickup_longitude</th>\n",
       "      <th>pickup_latitude</th>\n",
       "      <th>dropoff_longitude</th>\n",
       "      <th>dropoff_latitude</th>\n",
       "      <th>passenger_count</th>\n",
       "      <th>year</th>\n",
       "      <th>month</th>\n",
       "      <th>date</th>\n",
       "      <th>hour</th>\n",
       "      <th>minute</th>\n",
       "    </tr>\n",
       "  </thead>\n",
       "  <tbody>\n",
       "    <tr>\n",
       "      <th>fare_amount</th>\n",
       "      <td>1.000000</td>\n",
       "      <td>0.006141</td>\n",
       "      <td>-0.007575</td>\n",
       "      <td>0.004506</td>\n",
       "      <td>-0.005741</td>\n",
       "      <td>0.016672</td>\n",
       "      <td>0.130517</td>\n",
       "      <td>0.027373</td>\n",
       "      <td>-0.001438</td>\n",
       "      <td>-0.021981</td>\n",
       "      <td>-0.012499</td>\n",
       "    </tr>\n",
       "    <tr>\n",
       "      <th>pickup_longitude</th>\n",
       "      <td>0.006141</td>\n",
       "      <td>1.000000</td>\n",
       "      <td>-0.950588</td>\n",
       "      <td>0.956131</td>\n",
       "      <td>-0.946968</td>\n",
       "      <td>-0.005604</td>\n",
       "      <td>-0.001284</td>\n",
       "      <td>0.000416</td>\n",
       "      <td>0.006001</td>\n",
       "      <td>0.004910</td>\n",
       "      <td>0.005131</td>\n",
       "    </tr>\n",
       "    <tr>\n",
       "      <th>pickup_latitude</th>\n",
       "      <td>-0.007575</td>\n",
       "      <td>-0.950588</td>\n",
       "      <td>1.000000</td>\n",
       "      <td>-0.911123</td>\n",
       "      <td>0.928189</td>\n",
       "      <td>0.003237</td>\n",
       "      <td>-0.001334</td>\n",
       "      <td>0.000711</td>\n",
       "      <td>-0.006657</td>\n",
       "      <td>-0.004606</td>\n",
       "      <td>-0.006230</td>\n",
       "    </tr>\n",
       "    <tr>\n",
       "      <th>dropoff_longitude</th>\n",
       "      <td>0.004506</td>\n",
       "      <td>0.956131</td>\n",
       "      <td>-0.911123</td>\n",
       "      <td>1.000000</td>\n",
       "      <td>-0.982117</td>\n",
       "      <td>-0.004936</td>\n",
       "      <td>-0.000250</td>\n",
       "      <td>0.001407</td>\n",
       "      <td>0.005135</td>\n",
       "      <td>0.005490</td>\n",
       "      <td>0.007945</td>\n",
       "    </tr>\n",
       "    <tr>\n",
       "      <th>dropoff_latitude</th>\n",
       "      <td>-0.005741</td>\n",
       "      <td>-0.946968</td>\n",
       "      <td>0.928189</td>\n",
       "      <td>-0.982117</td>\n",
       "      <td>1.000000</td>\n",
       "      <td>0.002958</td>\n",
       "      <td>-0.001888</td>\n",
       "      <td>-0.000422</td>\n",
       "      <td>-0.007928</td>\n",
       "      <td>-0.004515</td>\n",
       "      <td>-0.007152</td>\n",
       "    </tr>\n",
       "    <tr>\n",
       "      <th>passenger_count</th>\n",
       "      <td>0.016672</td>\n",
       "      <td>-0.005604</td>\n",
       "      <td>0.003237</td>\n",
       "      <td>-0.004936</td>\n",
       "      <td>0.002958</td>\n",
       "      <td>1.000000</td>\n",
       "      <td>0.006344</td>\n",
       "      <td>0.009175</td>\n",
       "      <td>0.006841</td>\n",
       "      <td>0.011350</td>\n",
       "      <td>0.002967</td>\n",
       "    </tr>\n",
       "    <tr>\n",
       "      <th>year</th>\n",
       "      <td>0.130517</td>\n",
       "      <td>-0.001284</td>\n",
       "      <td>-0.001334</td>\n",
       "      <td>-0.000250</td>\n",
       "      <td>-0.001888</td>\n",
       "      <td>0.006344</td>\n",
       "      <td>1.000000</td>\n",
       "      <td>-0.115742</td>\n",
       "      <td>-0.011144</td>\n",
       "      <td>0.004104</td>\n",
       "      <td>-0.002636</td>\n",
       "    </tr>\n",
       "    <tr>\n",
       "      <th>month</th>\n",
       "      <td>0.027373</td>\n",
       "      <td>0.000416</td>\n",
       "      <td>0.000711</td>\n",
       "      <td>0.001407</td>\n",
       "      <td>-0.000422</td>\n",
       "      <td>0.009175</td>\n",
       "      <td>-0.115742</td>\n",
       "      <td>1.000000</td>\n",
       "      <td>-0.017241</td>\n",
       "      <td>-0.001950</td>\n",
       "      <td>-0.001421</td>\n",
       "    </tr>\n",
       "    <tr>\n",
       "      <th>date</th>\n",
       "      <td>-0.001438</td>\n",
       "      <td>0.006001</td>\n",
       "      <td>-0.006657</td>\n",
       "      <td>0.005135</td>\n",
       "      <td>-0.007928</td>\n",
       "      <td>0.006841</td>\n",
       "      <td>-0.011144</td>\n",
       "      <td>-0.017241</td>\n",
       "      <td>1.000000</td>\n",
       "      <td>-0.008261</td>\n",
       "      <td>-0.001202</td>\n",
       "    </tr>\n",
       "    <tr>\n",
       "      <th>hour</th>\n",
       "      <td>-0.021981</td>\n",
       "      <td>0.004910</td>\n",
       "      <td>-0.004606</td>\n",
       "      <td>0.005490</td>\n",
       "      <td>-0.004515</td>\n",
       "      <td>0.011350</td>\n",
       "      <td>0.004104</td>\n",
       "      <td>-0.001950</td>\n",
       "      <td>-0.008261</td>\n",
       "      <td>1.000000</td>\n",
       "      <td>-0.001140</td>\n",
       "    </tr>\n",
       "    <tr>\n",
       "      <th>minute</th>\n",
       "      <td>-0.012499</td>\n",
       "      <td>0.005131</td>\n",
       "      <td>-0.006230</td>\n",
       "      <td>0.007945</td>\n",
       "      <td>-0.007152</td>\n",
       "      <td>0.002967</td>\n",
       "      <td>-0.002636</td>\n",
       "      <td>-0.001421</td>\n",
       "      <td>-0.001202</td>\n",
       "      <td>-0.001140</td>\n",
       "      <td>1.000000</td>\n",
       "    </tr>\n",
       "  </tbody>\n",
       "</table>\n",
       "</div>"
      ],
      "text/plain": [
       "                   fare_amount  pickup_longitude  pickup_latitude  \\\n",
       "fare_amount           1.000000          0.006141        -0.007575   \n",
       "pickup_longitude      0.006141          1.000000        -0.950588   \n",
       "pickup_latitude      -0.007575         -0.950588         1.000000   \n",
       "dropoff_longitude     0.004506          0.956131        -0.911123   \n",
       "dropoff_latitude     -0.005741         -0.946968         0.928189   \n",
       "passenger_count       0.016672         -0.005604         0.003237   \n",
       "year                  0.130517         -0.001284        -0.001334   \n",
       "month                 0.027373          0.000416         0.000711   \n",
       "date                 -0.001438          0.006001        -0.006657   \n",
       "hour                 -0.021981          0.004910        -0.004606   \n",
       "minute               -0.012499          0.005131        -0.006230   \n",
       "\n",
       "                   dropoff_longitude  dropoff_latitude  passenger_count  \\\n",
       "fare_amount                 0.004506         -0.005741         0.016672   \n",
       "pickup_longitude            0.956131         -0.946968        -0.005604   \n",
       "pickup_latitude            -0.911123          0.928189         0.003237   \n",
       "dropoff_longitude           1.000000         -0.982117        -0.004936   \n",
       "dropoff_latitude           -0.982117          1.000000         0.002958   \n",
       "passenger_count            -0.004936          0.002958         1.000000   \n",
       "year                       -0.000250         -0.001888         0.006344   \n",
       "month                       0.001407         -0.000422         0.009175   \n",
       "date                        0.005135         -0.007928         0.006841   \n",
       "hour                        0.005490         -0.004515         0.011350   \n",
       "minute                      0.007945         -0.007152         0.002967   \n",
       "\n",
       "                       year     month      date      hour    minute  \n",
       "fare_amount        0.130517  0.027373 -0.001438 -0.021981 -0.012499  \n",
       "pickup_longitude  -0.001284  0.000416  0.006001  0.004910  0.005131  \n",
       "pickup_latitude   -0.001334  0.000711 -0.006657 -0.004606 -0.006230  \n",
       "dropoff_longitude -0.000250  0.001407  0.005135  0.005490  0.007945  \n",
       "dropoff_latitude  -0.001888 -0.000422 -0.007928 -0.004515 -0.007152  \n",
       "passenger_count    0.006344  0.009175  0.006841  0.011350  0.002967  \n",
       "year               1.000000 -0.115742 -0.011144  0.004104 -0.002636  \n",
       "month             -0.115742  1.000000 -0.017241 -0.001950 -0.001421  \n",
       "date              -0.011144 -0.017241  1.000000 -0.008261 -0.001202  \n",
       "hour               0.004104 -0.001950 -0.008261  1.000000 -0.001140  \n",
       "minute            -0.002636 -0.001421 -0.001202 -0.001140  1.000000  "
      ]
     },
     "execution_count": 28,
     "metadata": {},
     "output_type": "execute_result"
    }
   ],
   "source": [
    "data.corr()"
   ]
  },
  {
   "cell_type": "code",
   "execution_count": 29,
   "id": "483ef0c4",
   "metadata": {
    "scrolled": true
   },
   "outputs": [
    {
     "name": "stdout",
     "output_type": "stream",
     "text": [
      "Submission Data: \n"
     ]
    },
    {
     "data": {
      "text/html": [
       "<div>\n",
       "<style scoped>\n",
       "    .dataframe tbody tr th:only-of-type {\n",
       "        vertical-align: middle;\n",
       "    }\n",
       "\n",
       "    .dataframe tbody tr th {\n",
       "        vertical-align: top;\n",
       "    }\n",
       "\n",
       "    .dataframe thead th {\n",
       "        text-align: right;\n",
       "    }\n",
       "</style>\n",
       "<table border=\"1\" class=\"dataframe\">\n",
       "  <thead>\n",
       "    <tr style=\"text-align: right;\">\n",
       "      <th></th>\n",
       "      <th>0</th>\n",
       "    </tr>\n",
       "  </thead>\n",
       "  <tbody>\n",
       "    <tr>\n",
       "      <th>0</th>\n",
       "      <td>11.145209</td>\n",
       "    </tr>\n",
       "    <tr>\n",
       "      <th>1</th>\n",
       "      <td>10.011221</td>\n",
       "    </tr>\n",
       "    <tr>\n",
       "      <th>2</th>\n",
       "      <td>10.791720</td>\n",
       "    </tr>\n",
       "    <tr>\n",
       "      <th>3</th>\n",
       "      <td>11.788812</td>\n",
       "    </tr>\n",
       "    <tr>\n",
       "      <th>4</th>\n",
       "      <td>8.646455</td>\n",
       "    </tr>\n",
       "    <tr>\n",
       "      <th>...</th>\n",
       "      <td>...</td>\n",
       "    </tr>\n",
       "    <tr>\n",
       "      <th>9995</th>\n",
       "      <td>9.718065</td>\n",
       "    </tr>\n",
       "    <tr>\n",
       "      <th>9996</th>\n",
       "      <td>13.557439</td>\n",
       "    </tr>\n",
       "    <tr>\n",
       "      <th>9997</th>\n",
       "      <td>11.104480</td>\n",
       "    </tr>\n",
       "    <tr>\n",
       "      <th>9998</th>\n",
       "      <td>10.037863</td>\n",
       "    </tr>\n",
       "    <tr>\n",
       "      <th>9999</th>\n",
       "      <td>10.849089</td>\n",
       "    </tr>\n",
       "  </tbody>\n",
       "</table>\n",
       "<p>10000 rows × 1 columns</p>\n",
       "</div>"
      ],
      "text/plain": [
       "              0\n",
       "0     11.145209\n",
       "1     10.011221\n",
       "2     10.791720\n",
       "3     11.788812\n",
       "4      8.646455\n",
       "...         ...\n",
       "9995   9.718065\n",
       "9996  13.557439\n",
       "9997  11.104480\n",
       "9998  10.037863\n",
       "9999  10.849089\n",
       "\n",
       "[10000 rows x 1 columns]"
      ]
     },
     "execution_count": 29,
     "metadata": {},
     "output_type": "execute_result"
    }
   ],
   "source": [
    "pred = pd.DataFrame(model.predict(test_inputs))\n",
    "print('Submission Data: ')\n",
    "pred"
   ]
  },
  {
   "cell_type": "markdown",
   "id": "cf67e1a7",
   "metadata": {},
   "source": [
    "The test_input values was passed to model.predict to predict the result according to the inputs, and that was displayed as dataframe"
   ]
  },
  {
   "cell_type": "code",
   "execution_count": 30,
   "id": "ba1afb67",
   "metadata": {
    "scrolled": false
   },
   "outputs": [
    {
     "data": {
      "text/plain": [
       "1.0"
      ]
     },
     "execution_count": 30,
     "metadata": {},
     "output_type": "execute_result"
    }
   ],
   "source": [
    "model.score(test_inputs, pred)"
   ]
  },
  {
   "cell_type": "code",
   "execution_count": null,
   "id": "dfa323de",
   "metadata": {
    "scrolled": true
   },
   "outputs": [],
   "source": []
  },
  {
   "cell_type": "markdown",
   "id": "2d151ab4",
   "metadata": {},
   "source": [
    "The model score was calculated with according to test_inputs and pred"
   ]
  },
  {
   "cell_type": "code",
   "execution_count": 31,
   "id": "b64ba272",
   "metadata": {},
   "outputs": [],
   "source": [
    "# model 2: K Nearest Neighbour Regression\n",
    "\n",
    "from sklearn.neighbors import KNeighborsRegressor\n",
    "\n",
    "\n",
    "regressor = KNeighborsRegressor(n_neighbors = 10, p= 2, metric = 'euclidean', algorithm  = 'brute', weights = 'uniform')"
   ]
  },
  {
   "cell_type": "markdown",
   "id": "738e5195",
   "metadata": {},
   "source": [
    "###### Second model that i chose for continous values is KNeighborsRegressor\n",
    "\n",
    "the model was called and specified functions or arguments was passed to compute the results with my customisation"
   ]
  },
  {
   "cell_type": "code",
   "execution_count": 32,
   "id": "7d5a2634",
   "metadata": {},
   "outputs": [
    {
     "data": {
      "text/plain": [
       "KNeighborsRegressor(algorithm='brute', metric='euclidean', n_neighbors=10)"
      ]
     },
     "execution_count": 32,
     "metadata": {},
     "output_type": "execute_result"
    }
   ],
   "source": [
    "regressor.fit(train_inputs, train_targets)"
   ]
  },
  {
   "cell_type": "markdown",
   "id": "d3ffc581",
   "metadata": {},
   "source": [
    "the values are fitted into the model to learn it"
   ]
  },
  {
   "cell_type": "code",
   "execution_count": 33,
   "id": "aca0fb20",
   "metadata": {},
   "outputs": [
    {
     "data": {
      "text/plain": [
       "array([11.14520902, 10.01122098, 10.79171986, ..., 11.10447963,\n",
       "       10.03786349, 10.84908906])"
      ]
     },
     "execution_count": 33,
     "metadata": {},
     "output_type": "execute_result"
    }
   ],
   "source": [
    "y_pred = model.predict(test_inputs)\n",
    "y_pred"
   ]
  },
  {
   "cell_type": "markdown",
   "id": "2856f0cd",
   "metadata": {},
   "source": [
    "the prediction was done according to test_inputs"
   ]
  },
  {
   "cell_type": "code",
   "execution_count": 34,
   "id": "411c10f0",
   "metadata": {},
   "outputs": [
    {
     "data": {
      "text/plain": [
       "(10000,)"
      ]
     },
     "execution_count": 34,
     "metadata": {},
     "output_type": "execute_result"
    }
   ],
   "source": [
    "test_targets.shape"
   ]
  },
  {
   "cell_type": "code",
   "execution_count": 35,
   "id": "c476a37b",
   "metadata": {},
   "outputs": [
    {
     "data": {
      "text/plain": [
       "(10000,)"
      ]
     },
     "execution_count": 35,
     "metadata": {},
     "output_type": "execute_result"
    }
   ],
   "source": [
    "y_pred.shape"
   ]
  },
  {
   "cell_type": "code",
   "execution_count": 36,
   "id": "058a0ae6",
   "metadata": {},
   "outputs": [],
   "source": [
    "from sklearn.metrics import accuracy_score"
   ]
  },
  {
   "cell_type": "code",
   "execution_count": 37,
   "id": "a858f91d",
   "metadata": {
    "scrolled": true
   },
   "outputs": [
    {
     "data": {
      "text/plain": [
       "0.0494"
      ]
     },
     "execution_count": 37,
     "metadata": {},
     "output_type": "execute_result"
    }
   ],
   "source": [
    "accuracy_score(test_targets, np.round(y_pred))"
   ]
  },
  {
   "cell_type": "markdown",
   "id": "3d2e5296",
   "metadata": {},
   "source": [
    "the accuracy score was given in the above cell, the y_pred was contains of float value, can't able to compute the accuracy score hence it was rounded to have accuracy score exactly"
   ]
  },
  {
   "cell_type": "code",
   "execution_count": null,
   "id": "e3b9e203",
   "metadata": {},
   "outputs": [],
   "source": []
  }
 ],
 "metadata": {
  "kernelspec": {
   "display_name": "Python 3",
   "language": "python",
   "name": "python3"
  },
  "language_info": {
   "codemirror_mode": {
    "name": "ipython",
    "version": 3
   },
   "file_extension": ".py",
   "mimetype": "text/x-python",
   "name": "python",
   "nbconvert_exporter": "python",
   "pygments_lexer": "ipython3",
   "version": "3.8.8"
  }
 },
 "nbformat": 4,
 "nbformat_minor": 5
}
